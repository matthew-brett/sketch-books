{
 "metadata": {
  "name": ""
 },
 "nbformat": 3,
 "nbformat_minor": 0,
 "worksheets": [
  {
   "cells": [
    {
     "cell_type": "code",
     "collapsed": false,
     "input": [
      "import numpy as np\n",
      "import regreg.api as rr"
     ],
     "language": "python",
     "metadata": {},
     "outputs": [],
     "prompt_number": 1
    },
    {
     "cell_type": "code",
     "collapsed": false,
     "input": [
      "n, p, q = 1000, 5000, 10"
     ],
     "language": "python",
     "metadata": {},
     "outputs": [],
     "prompt_number": 2
    },
    {
     "cell_type": "markdown",
     "metadata": {},
     "source": [
      "Let's make some data "
     ]
    },
    {
     "cell_type": "code",
     "collapsed": false,
     "input": [
      "X = np.random.standard_normal((n,p))\n",
      "beta = np.zeros((p,q))\n",
      "beta[:3] = np.random.standard_normal((3,q)) * 2\n",
      "Y = np.random.standard_normal((n,q)) + np.dot(X, beta)"
     ],
     "language": "python",
     "metadata": {},
     "outputs": [],
     "prompt_number": 3
    },
    {
     "cell_type": "markdown",
     "metadata": {},
     "source": [
      "The loss is squared error -- I fixed the primal_shape to `(p,q)` because it does not guess that immediately in the code."
     ]
    },
    {
     "cell_type": "code",
     "collapsed": false,
     "input": [
      "loss = rr.squared_error(X, Y)\n",
      "loss.primal_shape = (p, q)"
     ],
     "language": "python",
     "metadata": {},
     "outputs": [],
     "prompt_number": 4
    },
    {
     "cell_type": "markdown",
     "metadata": {},
     "source": [
      "The penalty is the $\\ell_{1,2}$ norm of the matrix of coefficients\n",
      "$$\n",
      "\\sum_{i=1}^p \\|A[i]\\|_2.\n",
      "$$\n",
      "\n",
      "Its generic solutions have entire rows set to 0 -- it is sort of like a row-wise\n",
      "*soft-thresholding* operation where the an entire row is shrunk towards 0."
     ]
    },
    {
     "cell_type": "code",
     "collapsed": false,
     "input": [
      "penalty = rr.l1_l2((p,q), lagrange=2)\n",
      "penalty"
     ],
     "language": "python",
     "metadata": {},
     "outputs": [
      {
       "latex": [
        "$$\\lambda_{} \\|B\\|_{1,2}$$"
       ],
       "metadata": {},
       "output_type": "pyout",
       "prompt_number": 5,
       "text": [
        "l1_l2((5000, 10), lagrange=2.000000, offset=None)"
       ]
      }
     ],
     "prompt_number": 5
    },
    {
     "cell_type": "markdown",
     "metadata": {},
     "source": [
      "The smallest $\\lambda$ such that $\\hat{\\beta}=0$ is `Lmax` below. It can be found from the conjugate of the penalty, the $\\ell_{\\infty, 2}$ constraint. Since we want the function that is the norm and not the constraint, we create a new instance."
     ]
    },
    {
     "cell_type": "code",
     "collapsed": false,
     "input": [
      "dual_constraint = penalty.conjugate\n",
      "dual_constraint"
     ],
     "language": "python",
     "metadata": {},
     "outputs": [
      {
       "latex": [
        "$$I^{\\infty}(\\|B\\|_{\\infty,2} \\leq \\delta_{})$$"
       ],
       "metadata": {},
       "output_type": "pyout",
       "prompt_number": 6,
       "text": [
        "linf_l2((5000, 10), bound=2.000000, offset=None)"
       ]
      }
     ],
     "prompt_number": 6
    },
    {
     "cell_type": "code",
     "collapsed": false,
     "input": [
      "dual_norm = type(dual_constraint)((p,q), lagrange=1)\n",
      "dual_norm"
     ],
     "language": "python",
     "metadata": {},
     "outputs": [
      {
       "latex": [
        "$$\\lambda_{} \\|B\\|_{\\infty,2}$$"
       ],
       "metadata": {},
       "output_type": "pyout",
       "prompt_number": 7,
       "text": [
        "linf_l2((5000, 10), lagrange=1.000000, offset=None)"
       ]
      }
     ],
     "prompt_number": 7
    },
    {
     "cell_type": "code",
     "collapsed": false,
     "input": [
      "Lmax = dual_norm.objective(loss.smooth_objective(np.zeros((p,q)), mode='grad'))\n",
      "Lmax"
     ],
     "language": "python",
     "metadata": {},
     "outputs": [
      {
       "ename": "ValueError",
       "evalue": "total size of new array must be unchanged",
       "output_type": "pyerr",
       "traceback": [
        "\u001b[1;31m---------------------------------------------------------------------------\u001b[0m\n\u001b[1;31mValueError\u001b[0m                                Traceback (most recent call last)",
        "\u001b[1;32m<ipython-input-8-52817a4d2c3d>\u001b[0m in \u001b[0;36m<module>\u001b[1;34m()\u001b[0m\n\u001b[1;32m----> 1\u001b[1;33m \u001b[0mLmax\u001b[0m \u001b[1;33m=\u001b[0m \u001b[0mdual_norm\u001b[0m\u001b[1;33m.\u001b[0m\u001b[0mobjective\u001b[0m\u001b[1;33m(\u001b[0m\u001b[0mloss\u001b[0m\u001b[1;33m.\u001b[0m\u001b[0msmooth_objective\u001b[0m\u001b[1;33m(\u001b[0m\u001b[0mnp\u001b[0m\u001b[1;33m.\u001b[0m\u001b[0mzeros\u001b[0m\u001b[1;33m(\u001b[0m\u001b[1;33m(\u001b[0m\u001b[0mp\u001b[0m\u001b[1;33m,\u001b[0m\u001b[0mq\u001b[0m\u001b[1;33m)\u001b[0m\u001b[1;33m)\u001b[0m\u001b[1;33m,\u001b[0m \u001b[0mmode\u001b[0m\u001b[1;33m=\u001b[0m\u001b[1;34m'grad'\u001b[0m\u001b[1;33m)\u001b[0m\u001b[1;33m)\u001b[0m\u001b[1;33m\u001b[0m\u001b[0m\n\u001b[0m\u001b[0;32m      2\u001b[0m \u001b[0mLmax\u001b[0m\u001b[1;33m\u001b[0m\u001b[0m\n",
        "\u001b[1;32m/home/mb312/usr/local/lib/python2.7/site-packages/regreg/smooth/__init__.pyc\u001b[0m in \u001b[0;36msmooth_objective\u001b[1;34m(self, x, mode, check_feasibility)\u001b[0m\n\u001b[0;32m    155\u001b[0m             \u001b[0mg\u001b[0m \u001b[1;33m=\u001b[0m \u001b[0mself\u001b[0m\u001b[1;33m.\u001b[0m\u001b[0maffine_transform\u001b[0m\u001b[1;33m.\u001b[0m\u001b[0madjoint_map\u001b[0m\u001b[1;33m(\u001b[0m\u001b[0mg\u001b[0m\u001b[1;33m)\u001b[0m\u001b[1;33m\u001b[0m\u001b[0m\n\u001b[0;32m    156\u001b[0m             \u001b[1;32mif\u001b[0m \u001b[0mself\u001b[0m\u001b[1;33m.\u001b[0m\u001b[0mforce_reshape\u001b[0m\u001b[1;33m:\u001b[0m\u001b[1;33m\u001b[0m\u001b[0m\n\u001b[1;32m--> 157\u001b[1;33m                 \u001b[0mg\u001b[0m \u001b[1;33m=\u001b[0m \u001b[0mg\u001b[0m\u001b[1;33m.\u001b[0m\u001b[0mreshape\u001b[0m\u001b[1;33m(\u001b[0m\u001b[0mself\u001b[0m\u001b[1;33m.\u001b[0m\u001b[0mshape\u001b[0m\u001b[1;33m)\u001b[0m\u001b[1;33m\u001b[0m\u001b[0m\n\u001b[0m\u001b[0;32m    158\u001b[0m             \u001b[1;32mreturn\u001b[0m \u001b[0mg\u001b[0m\u001b[1;33m\u001b[0m\u001b[0m\n\u001b[0;32m    159\u001b[0m         \u001b[1;32melif\u001b[0m \u001b[0mmode\u001b[0m \u001b[1;33m==\u001b[0m \u001b[1;34m'func'\u001b[0m\u001b[1;33m:\u001b[0m\u001b[1;33m\u001b[0m\u001b[0m\n",
        "\u001b[1;31mValueError\u001b[0m: total size of new array must be unchanged"
       ]
      }
     ],
     "prompt_number": 8
    },
    {
     "cell_type": "markdown",
     "metadata": {},
     "source": [
      "Let's form our problem"
     ]
    },
    {
     "cell_type": "code",
     "collapsed": false,
     "input": [
      "problem = rr.simple_problem(loss, penalty)"
     ],
     "language": "python",
     "metadata": {},
     "outputs": []
    },
    {
     "cell_type": "markdown",
     "metadata": {},
     "source": [
      "Now, we solve the problem over a sequence of $\\lambda$ values."
     ]
    },
    {
     "cell_type": "code",
     "collapsed": false,
     "input": [
      "solns = []\n",
      "Lvals = np.exp(np.linspace(np.log(0.01), 0, 50))[::-1] * Lmax\n",
      "for L in Lvals:\n",
      "    penalty.lagrange = L\n",
      "    soln = problem.solve()\n",
      "    solns.append(soln.copy())"
     ],
     "language": "python",
     "metadata": {},
     "outputs": []
    },
    {
     "cell_type": "code",
     "collapsed": false,
     "input": [
      "solns = np.array(solns)\n",
      "solns.shape"
     ],
     "language": "python",
     "metadata": {},
     "outputs": []
    },
    {
     "cell_type": "markdown",
     "metadata": {},
     "source": [
      "Let's plot the $\\ell_2$ norm of each group of coefficients."
     ]
    },
    {
     "cell_type": "code",
     "collapsed": false,
     "input": [
      "norms = np.sqrt((solns**2).sum(2))\n",
      "lines = [plt.plot(Lvals, norms[:,i]) for i in range(p) if np.linalg.norm(norms[:,i]) > 1.e-3]\n",
      "plt.show()"
     ],
     "language": "python",
     "metadata": {},
     "outputs": []
    },
    {
     "cell_type": "code",
     "collapsed": false,
     "input": [],
     "language": "python",
     "metadata": {},
     "outputs": []
    }
   ],
   "metadata": {}
  }
 ]
}