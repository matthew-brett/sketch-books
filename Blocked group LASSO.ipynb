{
 "metadata": {
  "name": "",
  "signature": "sha256:d15246b18fdab3d6f3490d25cc6820f0aeca71fa1e9da436cb3e65fa045b2ba3"
 },
 "nbformat": 3,
 "nbformat_minor": 0,
 "worksheets": [
  {
   "cells": [
    {
     "cell_type": "code",
     "collapsed": false,
     "input": [
      "%matplotlib inline"
     ],
     "language": "python",
     "metadata": {},
     "outputs": [],
     "prompt_number": 1
    },
    {
     "cell_type": "code",
     "collapsed": false,
     "input": [
      "import numpy as np\n",
      "import matplotlib.pyplot as plt"
     ],
     "language": "python",
     "metadata": {},
     "outputs": [],
     "prompt_number": 2
    },
    {
     "cell_type": "code",
     "collapsed": false,
     "input": [
      "import regreg.api as rr"
     ],
     "language": "python",
     "metadata": {},
     "outputs": [],
     "prompt_number": 3
    },
    {
     "cell_type": "code",
     "collapsed": false,
     "input": [
      "n, p, q = 1000, 5000, 10"
     ],
     "language": "python",
     "metadata": {},
     "outputs": [],
     "prompt_number": 4
    },
    {
     "cell_type": "markdown",
     "metadata": {},
     "source": [
      "Let's make some data "
     ]
    },
    {
     "cell_type": "code",
     "collapsed": false,
     "input": [
      "X = np.random.standard_normal((n,p))\n",
      "beta = np.zeros((p,q))\n",
      "beta[:3] = np.random.standard_normal((3,q)) * 2\n",
      "Y = np.random.standard_normal((n,q)) + np.dot(X, beta)"
     ],
     "language": "python",
     "metadata": {},
     "outputs": [],
     "prompt_number": 5
    },
    {
     "cell_type": "markdown",
     "metadata": {},
     "source": [
      "The loss is squared error -- I fixed the primal shape (`shape`) to `(p,q)` because it does not guess that immediately in the code."
     ]
    },
    {
     "cell_type": "code",
     "collapsed": false,
     "input": [
      "loss = rr.squared_error(X, Y)\n",
      "loss.shape = (p, q)"
     ],
     "language": "python",
     "metadata": {},
     "outputs": [],
     "prompt_number": 6
    },
    {
     "cell_type": "markdown",
     "metadata": {},
     "source": [
      "The penalty is the $\\ell_{1,2}$ norm of the matrix of coefficients\n",
      "$$\n",
      "\\sum_{i=1}^p \\|A[i]\\|_2.\n",
      "$$\n",
      "\n",
      "Its generic solutions have entire rows set to 0 -- it is sort of like a row-wise\n",
      "*soft-thresholding* operation where the an entire row is shrunk towards 0."
     ]
    },
    {
     "cell_type": "code",
     "collapsed": false,
     "input": [
      "penalty = rr.l1_l2((p,q), lagrange=2)\n",
      "penalty"
     ],
     "language": "python",
     "metadata": {},
     "outputs": [
      {
       "latex": [
        "$$\\lambda_{} \\|B\\|_{1,2}$$"
       ],
       "metadata": {},
       "output_type": "pyout",
       "prompt_number": 7,
       "text": [
        "l1_l2((5000, 10), lagrange=2.000000, offset=None)"
       ]
      }
     ],
     "prompt_number": 7
    },
    {
     "cell_type": "markdown",
     "metadata": {},
     "source": [
      "The smallest $\\lambda$ such that $\\hat{\\beta}=0$ is `Lmax` below. It can be found from the conjugate of the penalty, the $\\ell_{\\infty, 2}$ constraint. Since we want the function that is the norm and not the constraint, we create a new instance."
     ]
    },
    {
     "cell_type": "code",
     "collapsed": false,
     "input": [
      "dual_constraint = penalty.conjugate\n",
      "dual_constraint"
     ],
     "language": "python",
     "metadata": {},
     "outputs": [
      {
       "latex": [
        "$$I^{\\infty}(\\|B\\|_{\\infty,2} \\leq \\delta_{})$$"
       ],
       "metadata": {},
       "output_type": "pyout",
       "prompt_number": 8,
       "text": [
        "linf_l2((5000, 10), bound=2.000000, offset=None)"
       ]
      }
     ],
     "prompt_number": 8
    },
    {
     "cell_type": "code",
     "collapsed": false,
     "input": [
      "dual_norm = type(dual_constraint)((p,q), lagrange=1)\n",
      "dual_norm"
     ],
     "language": "python",
     "metadata": {},
     "outputs": [
      {
       "latex": [
        "$$\\lambda_{} \\|B\\|_{\\infty,2}$$"
       ],
       "metadata": {},
       "output_type": "pyout",
       "prompt_number": 9,
       "text": [
        "linf_l2((5000, 10), lagrange=1.000000, offset=None)"
       ]
      }
     ],
     "prompt_number": 9
    },
    {
     "cell_type": "code",
     "collapsed": false,
     "input": [
      "Lmax = dual_norm.objective(loss.smooth_objective(np.zeros((p,q)), mode='grad'))\n",
      "Lmax"
     ],
     "language": "python",
     "metadata": {},
     "outputs": [
      {
       "metadata": {},
       "output_type": "pyout",
       "prompt_number": 10,
       "text": [
        "6816.196847463144"
       ]
      }
     ],
     "prompt_number": 10
    },
    {
     "cell_type": "markdown",
     "metadata": {},
     "source": [
      "Let's form our problem"
     ]
    },
    {
     "cell_type": "code",
     "collapsed": false,
     "input": [
      "problem = rr.simple_problem(loss, penalty)"
     ],
     "language": "python",
     "metadata": {},
     "outputs": [],
     "prompt_number": 11
    },
    {
     "cell_type": "markdown",
     "metadata": {},
     "source": [
      "Now, we solve the problem over a sequence of $\\lambda$ values."
     ]
    },
    {
     "cell_type": "code",
     "collapsed": false,
     "input": [
      "solns = []\n",
      "Lvals = np.exp(np.linspace(np.log(0.01), 0, 50))[::-1] * Lmax\n",
      "for L in Lvals:\n",
      "    penalty.lagrange = L\n",
      "    soln = problem.solve()\n",
      "    solns.append(soln.copy())"
     ],
     "language": "python",
     "metadata": {},
     "outputs": [],
     "prompt_number": 12
    },
    {
     "cell_type": "code",
     "collapsed": false,
     "input": [
      "solns = np.array(solns)\n",
      "solns.shape"
     ],
     "language": "python",
     "metadata": {},
     "outputs": [
      {
       "metadata": {},
       "output_type": "pyout",
       "prompt_number": 13,
       "text": [
        "(50, 5000, 10)"
       ]
      }
     ],
     "prompt_number": 13
    },
    {
     "cell_type": "markdown",
     "metadata": {},
     "source": [
      "Let's plot the $\\ell_2$ norm of each group of coefficients."
     ]
    },
    {
     "cell_type": "code",
     "collapsed": false,
     "input": [
      "norms = np.sqrt((solns**2).sum(2))\n",
      "lines = [plt.plot(Lvals, norms[:,i]) for i in range(p) if np.linalg.norm(norms[:,i]) > 1.e-3]\n",
      "plt.show()"
     ],
     "language": "python",
     "metadata": {},
     "outputs": [
      {
       "metadata": {},
       "output_type": "display_data",
       "png": "[encoded data removed]",
       "text": [
        "<matplotlib.figure.Figure at 0x1087aa790>"
       ]
      }
     ],
     "prompt_number": 14
    }
   ],
   "metadata": {}
  }
 ]
}