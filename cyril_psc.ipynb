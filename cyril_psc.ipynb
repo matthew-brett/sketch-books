{
 "metadata": {
  "name": ""
 },
 "nbformat": 3,
 "nbformat_minor": 0,
 "worksheets": [
  {
   "cells": [
    {
     "cell_type": "markdown",
     "metadata": {},
     "source": [
      "Notebook exploring Cyril's percentage signal change"
     ]
    },
    {
     "cell_type": "code",
     "collapsed": false,
     "input": [
      "%matplotlib inline\n",
      "import numpy as np\n",
      "import numpy.linalg as npl\n",
      "import matplotlib.pyplot as plt"
     ],
     "language": "python",
     "metadata": {},
     "outputs": [],
     "prompt_number": 1
    },
    {
     "cell_type": "code",
     "collapsed": false,
     "input": [
      "from scipy.stats import t as t_dist, f as f_dist, gamma"
     ],
     "language": "python",
     "metadata": {},
     "outputs": [],
     "prompt_number": 2
    },
    {
     "cell_type": "markdown",
     "metadata": {},
     "source": [
      "Reproducing Cyril's notebook"
     ]
    },
    {
     "cell_type": "code",
     "collapsed": false,
     "input": [
      "# Indices of event deltas\n",
      "onsets = np.arange(0, 400, 40);\n",
      "# Scaling for these events\n",
      "scale = [15, 5, 10, 10, 5, 15, 10, 5, 15, 10];\n",
      "# Regressors for design\n",
      "y1 = np.zeros(500); # 250 sec sample at 2Hz\n",
      "x1 = np.zeros(500);\n",
      "for i in range(10):\n",
      "    y1[onsets[i] + 4] = scale[i];\n",
      "    x1[onsets[i]] = 1;"
     ],
     "language": "python",
     "metadata": {},
     "outputs": [],
     "prompt_number": 3
    },
    {
     "cell_type": "code",
     "collapsed": false,
     "input": [
      "def spm_hrf(t):\n",
      "    \"\"\" Return SPM hrf sampled at times `t`\n",
      "    \"\"\"\n",
      "    # gamma.pdf only defined for t > 0\n",
      "    hrf = np.zeros_like(t, dtype=np.float)\n",
      "    hrf[t > 0] = gamma.pdf(t[t > 0], 6, 0, 1) - gamma.pdf(t[t > 0], 16, 0, 1) / 6.\n",
      "    return hrf / np.sum(hrf)"
     ],
     "language": "python",
     "metadata": {},
     "outputs": [],
     "prompt_number": 4
    },
    {
     "cell_type": "code",
     "collapsed": false,
     "input": [
      "def orth_x_wrt_y(x, y):\n",
      "    \"\"\" Orthogonalize vector `x` with respect to matrix `y`\n",
      "    \"\"\"\n",
      "    y_in_x_beta = npl.pinv(y).dot(x)\n",
      "    y_in_x = y.dot(y_in_x_beta)\n",
      "    return x - y_in_x"
     ],
     "language": "python",
     "metadata": {},
     "outputs": [],
     "prompt_number": 5
    },
    {
     "cell_type": "code",
     "collapsed": false,
     "input": [
      "# Time points for HRF\n",
      "t = np.arange(0, 32, 0.5)\n",
      "hrf = spm_hrf(t)\n",
      "plt.plot(t, hrf)"
     ],
     "language": "python",
     "metadata": {},
     "outputs": [
      {
       "metadata": {},
       "output_type": "pyout",
       "prompt_number": 6,
       "text": [
        "[<matplotlib.lines.Line2D at 0x7fd6d0303a90>]"
       ]
      },
      {
       "metadata": {},
       "output_type": "display_data",
       "png": "[encoded data removed]",
       "text": [
        "<matplotlib.figure.Figure at 0x3ab2610>"
       ]
      }
     ],
     "prompt_number": 6
    },
    {
     "cell_type": "code",
     "collapsed": false,
     "input": [
      "# Temporal derivative\n",
      "dhrf = hrf - spm_hrf(t - 1)\n",
      "plt.plot(t, hrf)\n",
      "plt.plot(t, dhrf)"
     ],
     "language": "python",
     "metadata": {},
     "outputs": [
      {
       "metadata": {},
       "output_type": "pyout",
       "prompt_number": 7,
       "text": [
        "[<matplotlib.lines.Line2D at 0x3abc310>]"
       ]
      },
      {
       "metadata": {},
       "output_type": "display_data",
       "png": "[encoded data removed]",
       "text": [
        "<matplotlib.figure.Figure at 0x3ac6cd0>"
       ]
      }
     ],
     "prompt_number": 7
    },
    {
     "cell_type": "markdown",
     "metadata": {},
     "source": [
      "Make design matrix"
     ]
    },
    {
     "cell_type": "code",
     "collapsed": false,
     "input": [
      "SS1 = np.convolve(x1, hrf);\n",
      "SS2_orig = np.convolve(x1, dhrf);\n",
      "SS2_orthed = orth_x_wrt_y(SS2_orig, SS1[:, None])\n",
      "X1 = np.column_stack((SS1[:400], SS2_orthed[:400], np.ones(400)));\n",
      "Y1 = np.convolve(y1, hrf);\n",
      "Y1 = Y1[:400]+100;\n",
      "SStotal = npl.norm(Y1 - np.mean(Y1)) ** 2;\n",
      "beta1 = npl.pinv(X1).dot(Y1);\n",
      "Yhat = X1.dot(beta1);"
     ],
     "language": "python",
     "metadata": {},
     "outputs": [],
     "prompt_number": 8
    },
    {
     "cell_type": "markdown",
     "metadata": {},
     "source": [
      "Percent signal change calculation"
     ]
    },
    {
     "cell_type": "code",
     "collapsed": false,
     "input": [
      "MY = np.reshape(Y1, (40,10), order='F');\n",
      "PSC_Y = np.mean(np.max(MY, axis=0)) - 100; # 100 is the real baseline\n",
      "\n",
      "# do the same MarsBaR style - gives different\n",
      "event = X1[:33,0]; scaled_event = event * beta1[0];\n",
      "deriv = X1[:33,1]; scaled_deriv = deriv * beta1[1];\n",
      "PSC_Yhat = max(scaled_event + scaled_deriv) / beta1[2] * 100;"
     ],
     "language": "python",
     "metadata": {},
     "outputs": [],
     "prompt_number": 9
    },
    {
     "cell_type": "code",
     "collapsed": false,
     "input": [
      "PSC_Y"
     ],
     "language": "python",
     "metadata": {},
     "outputs": [
      {
       "metadata": {},
       "output_type": "pyout",
       "prompt_number": 10,
       "text": [
        "1.0435941088136502"
       ]
      }
     ],
     "prompt_number": 10
    },
    {
     "cell_type": "code",
     "collapsed": false,
     "input": [
      "PSC_Yhat"
     ],
     "language": "python",
     "metadata": {},
     "outputs": [
      {
       "metadata": {},
       "output_type": "pyout",
       "prompt_number": 11,
       "text": [
        "1.0071743344339654"
       ]
      }
     ],
     "prompt_number": 11
    },
    {
     "cell_type": "code",
     "collapsed": false,
     "input": [
      "# actual marsbar calculation\n",
      "mars_psc = max(hrf * beta1[0] + dhrf * beta1[1]) / beta1[2] * 100\n",
      "mars_psc"
     ],
     "language": "python",
     "metadata": {},
     "outputs": [
      {
       "metadata": {},
       "output_type": "pyout",
       "prompt_number": 12,
       "text": [
        "0.9176723823241445"
       ]
      }
     ],
     "prompt_number": 12
    },
    {
     "cell_type": "markdown",
     "metadata": {},
     "source": [
      "The difference between Cyril's calculation and the actual Marsbar calculation is the orthogonalization:"
     ]
    },
    {
     "cell_type": "code",
     "collapsed": false,
     "input": [
      "X1_no = np.column_stack((SS1[:400], SS2_orig[:400], np.ones(400)));\n",
      "beta1_no = npl.pinv(X1_no).dot(Y1);\n",
      "max(hrf * beta1_no[0] + dhrf * beta1_no[1]) / beta1_no[2] * 100"
     ],
     "language": "python",
     "metadata": {},
     "outputs": [
      {
       "metadata": {},
       "output_type": "pyout",
       "prompt_number": 42,
       "text": [
        "1.0071743344339383"
       ]
      }
     ],
     "prompt_number": 42
    },
    {
     "cell_type": "markdown",
     "metadata": {},
     "source": [
      "The actual event height is simply the max of the hrf:"
     ]
    },
    {
     "cell_type": "code",
     "collapsed": false,
     "input": [
      "max(hrf)"
     ],
     "language": "python",
     "metadata": {},
     "outputs": [
      {
       "metadata": {},
       "output_type": "pyout",
       "prompt_number": 43,
       "text": [
        "0.10524885312742524"
       ]
      }
     ],
     "prompt_number": 43
    },
    {
     "cell_type": "markdown",
     "metadata": {},
     "source": [
      "Which, in our case, is modified by the scaling:"
     ]
    },
    {
     "cell_type": "code",
     "collapsed": false,
     "input": [
      "np.mean(scale)"
     ],
     "language": "python",
     "metadata": {},
     "outputs": [
      {
       "metadata": {},
       "output_type": "pyout",
       "prompt_number": 44,
       "text": [
        "10.0"
       ]
      }
     ],
     "prompt_number": 44
    },
    {
     "cell_type": "code",
     "collapsed": false,
     "input": [
      "max(hrf * np.mean(scale))"
     ],
     "language": "python",
     "metadata": {},
     "outputs": [
      {
       "metadata": {},
       "output_type": "pyout",
       "prompt_number": 45,
       "text": [
        "1.0524885312742525"
       ]
      }
     ],
     "prompt_number": 45
    },
    {
     "cell_type": "markdown",
     "metadata": {},
     "source": [
      "If the model fits exactly, you get close to the right answer:"
     ]
    },
    {
     "cell_type": "code",
     "collapsed": false,
     "input": [
      "Y1_matching = np.concatenate((Y1[4:], np.ones(4) * 100))\n",
      "beta1_exact = npl.pinv(X1_no).dot(Y1_matching);\n",
      "max(hrf * beta1_exact[0] + dhrf * beta1_exact[1]) / beta1_exact[2] * 100"
     ],
     "language": "python",
     "metadata": {},
     "outputs": [
      {
       "metadata": {},
       "output_type": "pyout",
       "prompt_number": 61,
       "text": [
        "1.0519008722741907"
       ]
      }
     ],
     "prompt_number": 61
    },
    {
     "cell_type": "markdown",
     "metadata": {},
     "source": [
      "But, as the model goes away from exact fit, the signal change estimate deteriorates:"
     ]
    },
    {
     "cell_type": "code",
     "collapsed": false,
     "input": [
      "hrf_hat = np.column_stack((hrf, dhrf)).dot(beta1_no[:2])\n",
      "hrf_actual = np.concatenate((np.zeros(4), hrf))\n",
      "plt.plot(hrf_actual[:40] * 10)\n",
      "plt.plot(hrf_hat[:40])"
     ],
     "language": "python",
     "metadata": {},
     "outputs": [
      {
       "metadata": {},
       "output_type": "pyout",
       "prompt_number": 70,
       "text": [
        "[<matplotlib.lines.Line2D at 0x7fd6d1e2a050>]"
       ]
      },
      {
       "metadata": {},
       "output_type": "display_data",
       "png": "[encoded data removed]",
       "text": [
        "<matplotlib.figure.Figure at 0x428a950>"
       ]
      }
     ],
     "prompt_number": 70
    },
    {
     "cell_type": "markdown",
     "metadata": {},
     "source": [
      "You can see this from the fit at the beginning of the Y time course.  We have to adjust for the fact that the first event has a higher scale than average. "
     ]
    },
    {
     "cell_type": "code",
     "collapsed": false,
     "input": [
      "adj_beta1_no = beta1_no.copy()\n",
      "adj_beta1_no[0:2] *= 15 / np.mean(scale)\n",
      "y_hat = X1_no.dot(adj_beta1_no)\n",
      "plt.plot(Y1[:40])\n",
      "plt.plot(y_hat[:40])"
     ],
     "language": "python",
     "metadata": {},
     "outputs": [
      {
       "metadata": {},
       "output_type": "pyout",
       "prompt_number": 67,
       "text": [
        "[<matplotlib.lines.Line2D at 0x428ec50>]"
       ]
      },
      {
       "metadata": {},
       "output_type": "display_data",
       "png": "[encoded data removed]",
       "text": [
        "<matplotlib.figure.Figure at 0x4296350>"
       ]
      }
     ],
     "prompt_number": 67
    }
   ],
   "metadata": {}
  }
 ]
}