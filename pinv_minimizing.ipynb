{
 "metadata": {
  "name": ""
 },
 "nbformat": 3,
 "nbformat_minor": 0,
 "worksheets": [
  {
   "cells": [
    {
     "cell_type": "markdown",
     "metadata": {},
     "source": [
      "Showing that the pseudoinverse solution minimizes the sums of squares of the estimated parameters $B$ for $Y = X B + \\epsilon$, in the case of a particular rank deficient matrix, from a tutorial by Cyril Pernet."
     ]
    },
    {
     "cell_type": "code",
     "collapsed": false,
     "input": [
      "import numpy as np"
     ],
     "language": "python",
     "metadata": {},
     "outputs": [],
     "prompt_number": 1
    },
    {
     "cell_type": "code",
     "collapsed": false,
     "input": [
      "a_block = np.array([-0.1, 0, 0.1])\n",
      "baseline = 10\n",
      "activation = 11\n",
      "on_off = np.hstack((a_block + baseline, a_block + activation))"
     ],
     "language": "python",
     "metadata": {},
     "outputs": []
    },
    {
     "cell_type": "code",
     "collapsed": false,
     "input": [
      "import sympy"
     ],
     "language": "python",
     "metadata": {},
     "outputs": [],
     "prompt_number": 2
    },
    {
     "cell_type": "code",
     "collapsed": false,
     "input": [
      "a = sympy.symbols('a')"
     ],
     "language": "python",
     "metadata": {},
     "outputs": [],
     "prompt_number": 3
    },
    {
     "cell_type": "code",
     "collapsed": false,
     "input": [
      "# The parameters that went into the data\n",
      "actual_params = np.array([1, 0, 10])\n",
      "# null-space vector for design\n",
      "null_vec = np.array([-1, -1, 1])\n",
      "# The fitted parameters can be actual_params + a * null_vec\n",
      "fitted_params = actual_params + a * null_vec\n",
      "fitted_params"
     ],
     "language": "python",
     "metadata": {},
     "outputs": [
      {
       "metadata": {},
       "output_type": "pyout",
       "prompt_number": 6,
       "text": [
        "array([-a + 1, -a, a + 10], dtype=object)"
       ]
      }
     ],
     "prompt_number": 6
    },
    {
     "cell_type": "code",
     "collapsed": false,
     "input": [
      "# pinv minimized the sums of squares of the fitted parameters\n",
      "ss = sympy.simplify(np.sum(fitted_params ** 2))\n",
      "ss"
     ],
     "language": "python",
     "metadata": {},
     "outputs": [
      {
       "metadata": {},
       "output_type": "pyout",
       "prompt_number": 9,
       "text": [
        "3*a**2 + 18*a + 101"
       ]
      }
     ],
     "prompt_number": 9
    },
    {
     "cell_type": "code",
     "collapsed": false,
     "input": [
      "# What multiple `a` of the null vector minimizes the sums of squares?\n",
      "a_min_ss = sympy.solve(sympy.diff(ss), a)[0]\n",
      "a_min_ss"
     ],
     "language": "python",
     "metadata": {},
     "outputs": [
      {
       "metadata": {},
       "output_type": "pyout",
       "prompt_number": 16,
       "text": [
        "-3"
       ]
      }
     ],
     "prompt_number": 16
    },
    {
     "cell_type": "code",
     "collapsed": false,
     "input": [
      "# That's what we get from the model fit\n",
      "actual_params + a_min_ss * null_vec"
     ],
     "language": "python",
     "metadata": {},
     "outputs": [
      {
       "metadata": {},
       "output_type": "pyout",
       "prompt_number": 17,
       "text": [
        "array([4, 3, 7], dtype=object)"
       ]
      }
     ],
     "prompt_number": 17
    }
   ],
   "metadata": {}
  }
 ]
}