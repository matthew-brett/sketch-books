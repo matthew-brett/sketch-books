{
 "metadata": {
  "name": ""
 },
 "nbformat": 3,
 "nbformat_minor": 0,
 "worksheets": [
  {
   "cells": [
    {
     "cell_type": "markdown",
     "metadata": {},
     "source": [
      "Showing that the pseudoinverse solution minimizes the sums of squares of the estimated parameters $B$ for $Y = X B + \\epsilon$, in the case of a particular rank deficient matrix, from a tutorial by Cyril Pernet."
     ]
    },
    {
     "cell_type": "code",
     "collapsed": false,
     "input": [
      "import numpy as np\n",
      "import numpy.linalg as npl"
     ],
     "language": "python",
     "metadata": {},
     "outputs": [],
     "prompt_number": 1
    },
    {
     "cell_type": "code",
     "collapsed": false,
     "input": [
      "# Setting up the design\n",
      "a_block = np.array([-0.1, 0, 0.1])\n",
      "baseline = 10\n",
      "activation = 11\n",
      "n_on_off = 3\n",
      "# The data\n",
      "on_off = np.hstack((a_block + baseline, a_block + activation))\n",
      "Y = np.tile(on_off, (n_on_off,))\n",
      "Y = Y[:, None] # Make Y into a column vector\n",
      "# Regressors in the redundant design\n",
      "x_on = np.hstack((np.zeros(len(a_block)), np.ones(len(a_block))))\n",
      "x_off = 1 - x_on\n",
      "X_over_part = np.column_stack((x_on, x_off, np.ones_like(x_on)))\n",
      "X_over = np.tile(X_over_part, (n_on_off, 1))\n",
      "Y, X_over"
     ],
     "language": "python",
     "metadata": {},
     "outputs": [
      {
       "metadata": {},
       "output_type": "pyout",
       "prompt_number": 2,
       "text": [
        "(array([[  9.9],\n",
        "       [ 10. ],\n",
        "       [ 10.1],\n",
        "       [ 10.9],\n",
        "       [ 11. ],\n",
        "       [ 11.1],\n",
        "       [  9.9],\n",
        "       [ 10. ],\n",
        "       [ 10.1],\n",
        "       [ 10.9],\n",
        "       [ 11. ],\n",
        "       [ 11.1],\n",
        "       [  9.9],\n",
        "       [ 10. ],\n",
        "       [ 10.1],\n",
        "       [ 10.9],\n",
        "       [ 11. ],\n",
        "       [ 11.1]]),\n",
        " array([[ 0.,  1.,  1.],\n",
        "       [ 0.,  1.,  1.],\n",
        "       [ 0.,  1.,  1.],\n",
        "       [ 1.,  0.,  1.],\n",
        "       [ 1.,  0.,  1.],\n",
        "       [ 1.,  0.,  1.],\n",
        "       [ 0.,  1.,  1.],\n",
        "       [ 0.,  1.,  1.],\n",
        "       [ 0.,  1.,  1.],\n",
        "       [ 1.,  0.,  1.],\n",
        "       [ 1.,  0.,  1.],\n",
        "       [ 1.,  0.,  1.],\n",
        "       [ 0.,  1.,  1.],\n",
        "       [ 0.,  1.,  1.],\n",
        "       [ 0.,  1.,  1.],\n",
        "       [ 1.,  0.,  1.],\n",
        "       [ 1.,  0.,  1.],\n",
        "       [ 1.,  0.,  1.]]))"
       ]
      }
     ],
     "prompt_number": 2
    },
    {
     "cell_type": "markdown",
     "metadata": {},
     "source": [
      "The design matrix `X_over` is not full rank:"
     ]
    },
    {
     "cell_type": "code",
     "collapsed": false,
     "input": [
      "npl.matrix_rank(X_over)"
     ],
     "language": "python",
     "metadata": {},
     "outputs": [
      {
       "metadata": {},
       "output_type": "pyout",
       "prompt_number": 3,
       "text": [
        "2"
       ]
      }
     ],
     "prompt_number": 3
    },
    {
     "cell_type": "markdown",
     "metadata": {},
     "source": [
      "That means it has a *null space* - a set of vectors $k$ for which $X k = 0$"
     ]
    },
    {
     "cell_type": "code",
     "collapsed": false,
     "input": [
      "import sympy\n",
      "sympy.init_printing(use_latex=True)"
     ],
     "language": "python",
     "metadata": {},
     "outputs": [],
     "prompt_number": 4
    },
    {
     "cell_type": "code",
     "collapsed": false,
     "input": [
      "X = sympy.Matrix(X_over)\n",
      "null_space = X.nullspace()\n",
      "null_space"
     ],
     "language": "python",
     "metadata": {},
     "outputs": [
      {
       "latex": [
        "$$\\begin{bmatrix}\\left[\\begin{matrix}-1.0\\\\-1.0\\\\1\\end{matrix}\\right]\\end{bmatrix}$$"
       ],
       "metadata": {},
       "output_type": "pyout",
       "png": "[encoded data removed]",
       "prompt_number": 5,
       "text": [
        "\u23a1\u23a1-1.0\u23a4\u23a4\n",
        "\u23a2\u23a2    \u23a5\u23a5\n",
        "\u23a2\u23a2-1.0\u23a5\u23a5\n",
        "\u23a2\u23a2    \u23a5\u23a5\n",
        "\u23a3\u23a3 1  \u23a6\u23a6"
       ]
      }
     ],
     "prompt_number": 5
    },
    {
     "cell_type": "markdown",
     "metadata": {},
     "source": [
      "The null space is a list of all the basis vectors spanning the null space:"
     ]
    },
    {
     "cell_type": "code",
     "collapsed": false,
     "input": [
      "type(null_space)"
     ],
     "language": "python",
     "metadata": {},
     "outputs": [
      {
       "metadata": {},
       "output_type": "pyout",
       "prompt_number": 6,
       "text": [
        "list"
       ]
      }
     ],
     "prompt_number": 6
    },
    {
     "cell_type": "markdown",
     "metadata": {},
     "source": [
      "In our case, the matrix is only rank deficient by one column, and there is only one basis vector for the null space:"
     ]
    },
    {
     "cell_type": "code",
     "collapsed": false,
     "input": [
      "len(null_space)"
     ],
     "language": "python",
     "metadata": {},
     "outputs": [
      {
       "latex": [
        "$$1$$"
       ],
       "metadata": {},
       "output_type": "pyout",
       "png": "[encoded data removed]",
       "prompt_number": 7,
       "text": [
        "1"
       ]
      }
     ],
     "prompt_number": 7
    },
    {
     "cell_type": "code",
     "collapsed": false,
     "input": [
      "null_vector = null_space[0]\n",
      "null_vector"
     ],
     "language": "python",
     "metadata": {},
     "outputs": [
      {
       "latex": [
        "$$\\left[\\begin{matrix}-1.0\\\\-1.0\\\\1\\end{matrix}\\right]$$"
       ],
       "metadata": {},
       "output_type": "pyout",
       "png": "[encoded data removed]",
       "prompt_number": 8,
       "text": [
        "\u23a1-1.0\u23a4\n",
        "\u23a2    \u23a5\n",
        "\u23a2-1.0\u23a5\n",
        "\u23a2    \u23a5\n",
        "\u23a3 1  \u23a6"
       ]
      }
     ],
     "prompt_number": 8
    },
    {
     "cell_type": "markdown",
     "metadata": {},
     "source": [
      "The null space is all vectors $k$ formed by multiplying a scalar $a$ times the null space basis vector `null_vector`."
     ]
    },
    {
     "cell_type": "markdown",
     "metadata": {},
     "source": [
      "This in turn means that if we find some parameter vector $B$ as the solution for $Y = X B$, then $Y = X B + X k = X (B + k)$ also."
     ]
    },
    {
     "cell_type": "markdown",
     "metadata": {},
     "source": [
      "For example, the parameters that went into forming $Y$ in our case are $1, 0, 10$ (activation, baseline, mean signal).  Not surprisingly, this vector minimizes the sum of squares for $\\epsilon = Y - X B$:"
     ]
    },
    {
     "cell_type": "code",
     "collapsed": false,
     "input": [
      "beta_in = np.array([[1, 0, 10]]).T\n",
      "Y - X_over.dot(beta_in)"
     ],
     "language": "python",
     "metadata": {},
     "outputs": [
      {
       "metadata": {},
       "output_type": "pyout",
       "prompt_number": 9,
       "text": [
        "array([[-0.1],\n",
        "       [ 0. ],\n",
        "       [ 0.1],\n",
        "       [-0.1],\n",
        "       [ 0. ],\n",
        "       [ 0.1],\n",
        "       [-0.1],\n",
        "       [ 0. ],\n",
        "       [ 0.1],\n",
        "       [-0.1],\n",
        "       [ 0. ],\n",
        "       [ 0.1],\n",
        "       [-0.1],\n",
        "       [ 0. ],\n",
        "       [ 0.1],\n",
        "       [-0.1],\n",
        "       [ 0. ],\n",
        "       [ 0.1]])"
       ]
      }
     ],
     "prompt_number": 9
    },
    {
     "cell_type": "markdown",
     "metadata": {},
     "source": [
      "But we get exactly the same fit by adding any multiple of `null_vector` to $B$:"
     ]
    },
    {
     "cell_type": "code",
     "collapsed": false,
     "input": [
      "null_numeric = np.array(null_vector).astype(float)\n",
      "Y - X_over.dot(beta_in + null_numeric * 42)"
     ],
     "language": "python",
     "metadata": {},
     "outputs": [
      {
       "metadata": {},
       "output_type": "pyout",
       "prompt_number": 10,
       "text": [
        "array([[-0.1],\n",
        "       [ 0. ],\n",
        "       [ 0.1],\n",
        "       [-0.1],\n",
        "       [ 0. ],\n",
        "       [ 0.1],\n",
        "       [-0.1],\n",
        "       [ 0. ],\n",
        "       [ 0.1],\n",
        "       [-0.1],\n",
        "       [ 0. ],\n",
        "       [ 0.1],\n",
        "       [-0.1],\n",
        "       [ 0. ],\n",
        "       [ 0.1],\n",
        "       [-0.1],\n",
        "       [ 0. ],\n",
        "       [ 0.1]])"
       ]
      }
     ],
     "prompt_number": 10
    },
    {
     "cell_type": "markdown",
     "metadata": {},
     "source": [
      "This means that the residuals $\\epsilon$ cannot distinguish between any of the possible parameter vectors $B + k$, where $k$ is a vector in the null space of $X$.\n",
      "\n",
      "The pseudoinverse operator chooses one of the infinite possible solutions from $B + k$:"
     ]
    },
    {
     "cell_type": "code",
     "collapsed": false,
     "input": [
      "beta_hat = npl.pinv(X_over).dot(Y)\n",
      "beta_hat"
     ],
     "language": "python",
     "metadata": {},
     "outputs": [
      {
       "metadata": {},
       "output_type": "pyout",
       "prompt_number": 11,
       "text": [
        "array([[ 4.],\n",
        "       [ 3.],\n",
        "       [ 7.]])"
       ]
      }
     ],
     "prompt_number": 11
    },
    {
     "cell_type": "markdown",
     "metadata": {},
     "source": [
      "In fact, this is the solution that minimizes the sum of squares of the chosen parameters in `beta_hat`:"
     ]
    },
    {
     "cell_type": "code",
     "collapsed": false,
     "input": [
      "# The fitted parameters can be beta_in (the input paramters) + a * null_vector\n",
      "a = sympy.symbols('a')\n",
      "fitted_params = beta_in + a * null_vector\n",
      "fitted_params"
     ],
     "language": "python",
     "metadata": {},
     "outputs": [
      {
       "latex": [
        "$$\\left[\\begin{matrix}- 1.0 a + 1\\\\- 1.0 a\\\\a + 10\\end{matrix}\\right]$$"
       ],
       "metadata": {},
       "output_type": "pyout",
       "png": "[encoded data removed]",
       "prompt_number": 12,
       "text": [
        "\u23a1-1.0\u22c5a + 1\u23a4\n",
        "\u23a2          \u23a5\n",
        "\u23a2  -1.0\u22c5a  \u23a5\n",
        "\u23a2          \u23a5\n",
        "\u23a3  a + 10  \u23a6"
       ]
      }
     ],
     "prompt_number": 12
    },
    {
     "cell_type": "code",
     "collapsed": false,
     "input": [
      "# pinv minimized the sums of squares of the fitted parameters\n",
      "ss = sympy.simplify(sum(e ** 2 for e in fitted_params))\n",
      "ss"
     ],
     "language": "python",
     "metadata": {},
     "outputs": [
      {
       "latex": [
        "$$3.0 a^{2} + 18.0 a + 101.0$$"
       ],
       "metadata": {},
       "output_type": "pyout",
       "png": "[encoded data removed]",
       "prompt_number": 13,
       "text": [
        "     2                 \n",
        "3.0\u22c5a  + 18.0\u22c5a + 101.0"
       ]
      }
     ],
     "prompt_number": 13
    },
    {
     "cell_type": "code",
     "collapsed": false,
     "input": [
      "# What multiple `a` of the null vector minimizes the sums of squares?\n",
      "a_min_ss = sympy.solve(sympy.diff(ss), a)[0]\n",
      "a_min_ss"
     ],
     "language": "python",
     "metadata": {},
     "outputs": [
      {
       "latex": [
        "$$-3.0$$"
       ],
       "metadata": {},
       "output_type": "pyout",
       "png": "[encoded data removed]",
       "prompt_number": 14,
       "text": [
        "-3.00000000000000"
       ]
      }
     ],
     "prompt_number": 14
    },
    {
     "cell_type": "code",
     "collapsed": false,
     "input": [
      "# That's what we get from the pseudoinverse model fit\n",
      "sympy.Matrix(beta_in + a_min_ss * null_vector)"
     ],
     "language": "python",
     "metadata": {},
     "outputs": [
      {
       "latex": [
        "$$\\left[\\begin{matrix}4.0\\\\3.0\\\\7.0\\end{matrix}\\right]$$"
       ],
       "metadata": {},
       "output_type": "pyout",
       "png": "[encoded data removed]",
       "prompt_number": 15,
       "text": [
        "\u23a14.0\u23a4\n",
        "\u23a2   \u23a5\n",
        "\u23a23.0\u23a5\n",
        "\u23a2   \u23a5\n",
        "\u23a37.0\u23a6"
       ]
      }
     ],
     "prompt_number": 15
    }
   ],
   "metadata": {}
  }
 ]
}