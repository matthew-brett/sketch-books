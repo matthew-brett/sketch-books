{
 "metadata": {
  "name": ""
 },
 "nbformat": 3,
 "nbformat_minor": 0,
 "worksheets": [
  {
   "cells": [
    {
     "cell_type": "heading",
     "level": 2,
     "metadata": {},
     "source": [
      "The argument in \"Why most published research findings are false\""
     ]
    },
    {
     "cell_type": "markdown",
     "metadata": {},
     "source": [
      "I spent some time trying to understand the argument in this paper:\n",
      "\n",
      "* Ioannidis, John PA. 2005. \u201cWhy most published research findings are false.\u201d *PLoS medicine* 2 (8): e124.\n",
      "\n",
      "I found Ioannidis' exposition a little confusing, so here I expound it again.\n",
      "\n",
      "These papers were useful for understanding the argument:\n",
      "\n",
      "* Goodman, Steven, and Sander Greenland. 2007. \u201cAssessing the unreliability of the medical literature: a response to \u2018why most published research findings are false.\u2019\u201d *Johns Hopkins University, Dept. of Biostatistics Working Papers*.\n",
      "* Kass, Robert E., and Adrian E. Raftery. 1995. \u201cBayes factors.\u201d *Journal of the american statistical association* 90 (430): 773\u2013795.\n",
      "* Wacholder, Sholom, Stephen Chanock, Montserrat Garcia-Closas, Nathaniel Rothman, and others. 2004. \u201cAssessing the probability that a positive report is false: an approach for molecular epidemiology studies.\u201d *Journal of the National Cancer Institute* 96 (6): 434\u2013442."
     ]
    },
    {
     "cell_type": "heading",
     "level": 2,
     "metadata": {},
     "source": [
      "\"The practice of science is profoundly broken\".  Discuss? - no - model and test!"
     ]
    },
    {
     "cell_type": "markdown",
     "metadata": {},
     "source": [
      "The point that Ionnnides is making is the following:\n",
      "\n",
      "We know that the scientific process is flawed in a variety of ways.  We assume that these flaws do not have a large effect on the outcome.  But, if we model some of the flaws, we see that their effect can be catastrophic, in the sense that a large proportion of scientific findings are likely to be wrong.\n",
      "\n",
      "We scientists commit ourselves to rational thinking.  In this case, rational thinking is asking, \"how likely is it that we are getting the answers wrong\"?.  We have to ask this question in a rational way.  This is what Ioannidis sets out to do in this paper."
     ]
    },
    {
     "cell_type": "heading",
     "level": 2,
     "metadata": {},
     "source": [
      "Different ways of phrasing the argument"
     ]
    },
    {
     "cell_type": "markdown",
     "metadata": {},
     "source": [
      "The basis of Ioannidis' argument comes from [Wacholder et al 2004](http://jnci.oxfordjournals.org/content/96/6/434.long) (see appendix table 1).  [Goodman and Greenland 2007](http://www.plosmedicine.org/article/info%3Adoi%2F10.1371%2Fjournal.pmed.0040168) do a good job of explaining Ioannidis in terms of Bayes theorem.\n",
      "\n",
      "Both Ioannidis and Goodman & Greenland use odds ratios rather than probability values in their exposition.  I found it easier to think in terms of probabilities, and that's the way I'm going to present the argumemt."
     ]
    },
    {
     "cell_type": "heading",
     "level": 2,
     "metadata": {},
     "source": [
      "Some terms"
     ]
    },
    {
     "cell_type": "markdown",
     "metadata": {},
     "source": [
      "We've done an experiment, and we have conducted a statistical test:"
     ]
    },
    {
     "cell_type": "markdown",
     "metadata": {},
     "source": [
      "* $H_A$ - alternative hypothesis\n",
      "* $H_0$ - null hypothesis\n",
      "* $\\alpha$ : false positive rate - probability for test to reject $H_0$ when $H_0$ is true ($H_A$ is false)\n",
      "* $\\beta$ : false negative rate - probability for test to accept $H_0$ when $H_A$ is true ($H_0$ is false)\n",
      "* $1 - \\beta$ : power - probability we will reject $H_0$ if $H_A$ is true ($H_0$ is false)"
     ]
    },
    {
     "cell_type": "markdown",
     "metadata": {},
     "source": [
      "Let's say that the test can either be \"significant\" (test gives $p \\le \\alpha$) or \"not significant\" ($p > \\alpha$).  Denote \"test is significant\" by $T_S$, \"test not significant\" by $T_N$."
     ]
    },
    {
     "cell_type": "markdown",
     "metadata": {},
     "source": [
      "Before we did the experiement there were two possibilities - $H_A$ is true, or $H_0$ is true.  After we have four possibilities: \n",
      "\n",
      "* $H_A \\land T_S$ : $H_A$ is true, test is significant; \n",
      "* $H_A \\land T_N$ : $H_A$ is true, test is not significant;\n",
      "* $H_0 \\land T_S$ : $H_0$ is true ($H_A$ is false) - test is significant;\n",
      "* $H_0 \\land T_N$ : $H_0$ is true ($H_A$ is false) - test is not significant."
     ]
    },
    {
     "cell_type": "heading",
     "level": 2,
     "metadata": {},
     "source": [
      "What does a \"significant\" statistical test result tell us?"
     ]
    },
    {
     "cell_type": "markdown",
     "metadata": {},
     "source": [
      "In this section we work up slowly to Ioannides table 1"
     ]
    },
    {
     "cell_type": "markdown",
     "metadata": {},
     "source": [
      "If we do not take the prior probabilities into account, then we have the following probabilities:"
     ]
    },
    {
     "cell_type": "code",
     "collapsed": false,
     "input": [
      "%matplotlib inline\n",
      "import numpy as np\n",
      "import matplotlib.pyplot as plt\n",
      "from sympy import symbols, Eq, solve, simplify, lambdify, init_printing, latex\n",
      "init_printing(use_latex=True, order='old')"
     ],
     "language": "python",
     "metadata": {},
     "outputs": [],
     "prompt_number": 1
    },
    {
     "cell_type": "code",
     "collapsed": false,
     "input": [
      "# Code to make HTML for a probability table\n",
      "def association_table(assocs,\n",
      "                      title,\n",
      "                      row_names=('$H_A$', '$H_0$', 'Total'),\n",
      "                      col_names=('$T_S$', '$T_N$')):\n",
      "    latexed = {'title': title,\n",
      "               'row_names': row_names,\n",
      "               'col_names': col_names}\n",
      "    for key, value in assocs.items():\n",
      "        latexed[key] = latex(value)\n",
      "    latexed['s_total'] = latex(assocs['t_s'] + assocs['f_s'])\n",
      "    latexed['ns_total'] = latex(assocs['t_ns'] + assocs['f_ns'])\n",
      "    return \"\"\"\n",
      "    <h3>{title}</h3>\n",
      "    <TABLE>\n",
      "    <TR><TH><TH>{col_names[0]}<TH>{col_names[1]}\n",
      "    <TR><TH>{row_names[0]}<TD>${t_s}$<TD>${t_ns}$\n",
      "    <TR><TH>{row_names[1]}<TD>${f_s}$<TD>${f_ns}$\n",
      "    <TR><TH>{row_names[2]}<TD>${s_total}$<TD>${ns_total}$\n",
      "    </TABLE>\n",
      "    \"\"\".format(**latexed)"
     ],
     "language": "python",
     "metadata": {},
     "outputs": [],
     "prompt_number": 2
    },
    {
     "cell_type": "code",
     "collapsed": false,
     "input": [
      "from IPython.display import HTML\n",
      "alpha, beta = symbols(r'\\alpha, \\beta')\n",
      "assoc = dict(t_s = 1 - beta,\n",
      "             t_ns = beta,\n",
      "             f_s = alpha,\n",
      "             f_ns = 1 - alpha)\n",
      "HTML(association_table(assoc, 'Not considering prior'))"
     ],
     "language": "python",
     "metadata": {},
     "outputs": [
      {
       "html": [
        "\n",
        "    <h3>Not considering prior</h3>\n",
        "    <TABLE>\n",
        "    <TR><TH><TH>$T_S$<TH>$T_N$\n",
        "    <TR><TH>$H_A$<TD>$1 - \\beta$<TD>$\\beta$\n",
        "    <TR><TH>$H_0$<TD>$\\alpha$<TD>$1 - \\alpha$\n",
        "    <TR><TH>Total<TD>$1 + \\alpha - \\beta$<TD>$1 + \\beta - \\alpha$\n",
        "    </TABLE>\n",
        "    "
       ],
       "metadata": {},
       "output_type": "pyout",
       "prompt_number": 3,
       "text": [
        "<IPython.core.display.HTML at 0x49e6f50>"
       ]
      }
     ],
     "prompt_number": 3
    },
    {
     "cell_type": "markdown",
     "metadata": {},
     "source": [
      "Some new terms:\n",
      "\n",
      "* $Pr(H_A)$ - prior probability of $H_A$ - probability of $H_A$ before the experiment was conducted.\n",
      "* $Pr(H_0)$ - prior probability of $H_0$ = $1 - Pr(H_A)$ - probability of null hypothesis before experiment conducted\n",
      "\n",
      "We are interested in the change in probability of $H_A$ and $H_0$ as a result of a test on some collected data.  This is the *posterior probability* of $H_A$ given the test result.\n",
      "\n",
      "The test result $T$ is assumed to have arisen under either $H_A$ or $H_0$.\n",
      "\n",
      "$Pr(T) = Pr(T | H_A) Pr(H_A) + Pr(T | H_0) Pr(H_0)$\n",
      "\n",
      "(From Kass & Rafferty 1995)\n",
      "\n",
      "Remembering [Bayes theorem](http://en.wikipedia.org/wiki/Bayes'_theorem#Derivation):\n",
      "\n",
      "$P(A | B) = P(B | A) P(A) / P(B)$\n",
      "\n",
      "Bayes theorem gives:\n",
      "\n",
      "$\\newcommand{Frac}[2]{\\frac{\\displaystyle #1}{\\displaystyle #2}}$\n",
      "$P(H_A | T) = \\Frac{Pr(T | H_A) Pr(H_A)}{Pr(T)} = \\Frac{Pr(T | H_A) Pr(H_A)}{Pr(T | H_A) Pr(H_A) + Pr(T | H_0) Pr(H_0)}$\n",
      "\n",
      "Consider only the test result $T_S$ (the test is signficant).  What is the posterior probability of $H_A$ given that the test is signficant?\n",
      "\n",
      "$P(H_A | T_S) = \\Frac{Pr(T_S | H_A) Pr(H_A)}{Pr(T_S | H_A) Pr(H_A) + Pr(T_S | H_0) Pr(H_0)}$\n",
      "\n",
      "We have $Pr(T_S | H_A)$, $Pr(T_S | H_0)$ from the table above. Substituting into the equation:\n",
      "\n",
      "$P(H_A | T) = \\Frac{(1 - \\beta) Pr(H_A)}{(1 - \\beta) Pr(H_A) + \\alpha Pr(H_0)}$"
     ]
    },
    {
     "cell_type": "markdown",
     "metadata": {},
     "source": [
      "To make this a little less cluttered, define:\n",
      "\n",
      "$\\pi := Pr(H_A)$\n",
      "\n",
      "So\n",
      "\n",
      "$1 - \\pi = Pr(H_0)$\n",
      "\n",
      "and:\n",
      "\n",
      "$P(H_A | T) = \\Frac{(1 - \\beta) \\pi}{(1 - \\beta) \\pi + \\alpha (1 - \\pi)}$\n",
      "\n",
      "Let's put that formula into Sympy for later:"
     ]
    },
    {
     "cell_type": "code",
     "collapsed": false,
     "input": [
      "pi = symbols('\\pi')\n",
      "post_prob = (1 - beta) * pi / ((1 - beta) * pi + alpha * (1 - pi))\n",
      "post_prob"
     ],
     "language": "python",
     "metadata": {},
     "outputs": [
      {
       "latex": [
        "$$\\frac{\\pi \\left(1 - \\beta\\right)}{\\alpha \\left(1 - \\pi\\right) + \\pi \\left(1 - \\beta\\right)}$$"
       ],
       "metadata": {},
       "output_type": "pyout",
       "png": "[encoded data removed]",
       "prompt_number": 4,
       "text": [
        "         \\pi\u22c5(1 - \\beta)          \n",
        "\u2500\u2500\u2500\u2500\u2500\u2500\u2500\u2500\u2500\u2500\u2500\u2500\u2500\u2500\u2500\u2500\u2500\u2500\u2500\u2500\u2500\u2500\u2500\u2500\u2500\u2500\u2500\u2500\u2500\u2500\u2500\u2500\u2500\u2500\n",
        "\\alpha\u22c5(1 - \\pi) + \\pi\u22c5(1 - \\beta)"
       ]
      }
     ],
     "prompt_number": 4
    },
    {
     "cell_type": "markdown",
     "metadata": {},
     "source": [
      "A table shows the new probabilities that does take the prior into account:"
     ]
    },
    {
     "cell_type": "code",
     "collapsed": false,
     "input": [
      "assoc = dict(t_s = pi * (1 - beta),\n",
      "             t_ns = pi * beta,\n",
      "             f_s = (1 - pi) * alpha,\n",
      "             f_ns = (1 - pi) * (1 - alpha))\n",
      "HTML(association_table(assoc, 'Considering prior $\\pi := Pr(H_A)$'))"
     ],
     "language": "python",
     "metadata": {},
     "outputs": [
      {
       "html": [
        "\n",
        "    <h3>Considering prior $\\pi := Pr(H_A)$</h3>\n",
        "    <TABLE>\n",
        "    <TR><TH><TH>$T_S$<TH>$T_N$\n",
        "    <TR><TH>$H_A$<TD>$\\pi \\left(1 - \\beta\\right)$<TD>$\\beta \\pi$\n",
        "    <TR><TH>$H_0$<TD>$\\alpha \\left(1 - \\pi\\right)$<TD>$\\left(1 - \\alpha\\right) \\left(1 - \\pi\\right)$\n",
        "    <TR><TH>Total<TD>$\\alpha \\left(1 - \\pi\\right) + \\pi \\left(1 - \\beta\\right)$<TD>$\\beta \\pi + \\left(1 - \\alpha\\right) \\left(1 - \\pi\\right)$\n",
        "    </TABLE>\n",
        "    "
       ],
       "metadata": {},
       "output_type": "pyout",
       "prompt_number": 5,
       "text": [
        "<IPython.core.display.HTML at 0x2b9f110>"
       ]
      }
     ],
     "prompt_number": 5
    },
    {
     "cell_type": "markdown",
     "metadata": {},
     "source": [
      "This table is equivalent to Ionnides table 1. The first column of the table gives the probabilities in the case we're interested in, of $T_S$.  The posterior probability is the first row, first column $Pr(T_S | H_A)$), divided by the total row, first column ($Pr(T_S)$)."
     ]
    },
    {
     "cell_type": "markdown",
     "metadata": {},
     "source": [
      "Ioannidis uses \"positive predictive value\" (PPV) for the posterior probability $P(H_A | T_S)$.  Goodman and Greenland complain, reasonably enough, that \"positive predictive value\" is a confusing new term for an old standard concept.  I'll stick to posterior probability."
     ]
    },
    {
     "cell_type": "markdown",
     "metadata": {},
     "source": [
      "Ionnidis also prefers his equations in terms of $R$ - the *prior odds ratio*.  $R := \\Frac{Pr(H_A)}{Pr(H_0)}$. Also, from $\\pi := Pr(H_A)$ and $Pr(H_0) = 1 - Pr(H_A)$ : $R = \\Frac{\\pi}{1 - \\pi}$. \n",
      "\n",
      "Ioannidis' formula for PPV is $\\Frac{(1 - \\beta) R}{R - \\beta R + \\alpha}$.  This is the same as our formula above, only rephrased in terms of $R$:"
     ]
    },
    {
     "cell_type": "code",
     "collapsed": false,
     "input": [
      "R = pi / (1 - pi)\n",
      "PPV = (1 - beta) * R / (R - beta * R + alpha)\n",
      "# Is this the same as our formula above?\n",
      "simplify(PPV - post_prob)"
     ],
     "language": "python",
     "metadata": {},
     "outputs": [
      {
       "latex": [
        "$$0$$"
       ],
       "metadata": {},
       "output_type": "pyout",
       "png": "[encoded data removed]",
       "prompt_number": 6,
       "text": [
        "0"
       ]
      }
     ],
     "prompt_number": 6
    },
    {
     "cell_type": "markdown",
     "metadata": {},
     "source": [
      "What is this posterior probability?  It is our estimate of whether $H_A$ is true, given our prior knowledge $Pr(H_A) = \\pi$ combined with the new information from the test result."
     ]
    },
    {
     "cell_type": "heading",
     "level": 2,
     "metadata": {},
     "source": [
      "Whether a finding is likely to be true depends on the power of the experiment"
     ]
    },
    {
     "cell_type": "markdown",
     "metadata": {},
     "source": [
      "The posterior probability is the likelihood that $H_A$ is true given our prior knowledge and the current (published) statistical test result.\n",
      "\n",
      "What affects this value?\n",
      "\n",
      "Assume that $\\alpha = 0.05$ (standard significance threshold for null hypothesis test).\n",
      "\n",
      "Let's have a look at the posterior probability as a function of power and prior probability:"
     ]
    },
    {
     "cell_type": "code",
     "collapsed": false,
     "input": [
      "# Make symbolic expression into a function we can evaluate\n",
      "post_prob_func = lambdify((alpha, beta, pi), post_prob)\n",
      "# Make set of beta values for x axis of plot\n",
      "pi_vals = np.linspace(0, 1, 100)\n",
      "for power in (0.8, 0.5, 0.2):\n",
      "    beta_val = 1 - power\n",
      "    plt.plot(pi_vals, post_prob_func(0.05, beta_val, pi_vals), label='power={0}'.format(power))\n",
      "plt.xlabel('$Pr(H_A)$')\n",
      "plt.ylabel('Posterior probability')\n",
      "plt.legend()\n",
      "plt.title(\"Posterior probability for different priors and power levels\")"
     ],
     "language": "python",
     "metadata": {},
     "outputs": [
      {
       "metadata": {},
       "output_type": "pyout",
       "prompt_number": 7,
       "text": [
        "<matplotlib.text.Text at 0x4b4c810>"
       ]
      },
      {
       "metadata": {},
       "output_type": "display_data",
       "png": "[encoded data removed]",
       "text": [
        "<matplotlib.figure.Figure at 0x4a836d0>"
       ]
      }
     ],
     "prompt_number": 7
    },
    {
     "cell_type": "markdown",
     "metadata": {},
     "source": [
      "The posterior probability depends on the power, because, if the power is low, then, if $H_A$ is true, the likelihood of getting a significant test result drops, and gets closer to the likelihood $\\alpha$ of getting a significant test result if $H_0$ is true.  When power is 0.2, and the prior probability is less then around 0.2, then even if there is a significant test result, the null is still more likely than the $H_A$ (posterior < 0.5)."
     ]
    }
   ],
   "metadata": {}
  }
 ]
}