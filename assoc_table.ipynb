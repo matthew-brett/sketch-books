{
 "metadata": {
  "name": ""
 },
 "nbformat": 3,
 "nbformat_minor": 0,
 "worksheets": [
  {
   "cells": [
    {
     "cell_type": "code",
     "collapsed": false,
     "input": [
      "%matplotlib inline"
     ],
     "language": "python",
     "metadata": {},
     "outputs": [],
     "prompt_number": 1
    },
    {
     "cell_type": "code",
     "collapsed": false,
     "input": [
      "import sympy\n",
      "sympy.init_printing(use_latex=True)"
     ],
     "language": "python",
     "metadata": {},
     "outputs": [],
     "prompt_number": 2
    },
    {
     "cell_type": "code",
     "collapsed": false,
     "input": [
      "from sympy.abc import x, y, alpha, beta\n",
      "from sympy import latex"
     ],
     "language": "python",
     "metadata": {},
     "outputs": [],
     "prompt_number": 3
    },
    {
     "cell_type": "code",
     "collapsed": false,
     "input": [
      "from IPython.display import HTML"
     ],
     "language": "python",
     "metadata": {},
     "outputs": [],
     "prompt_number": 4
    },
    {
     "cell_type": "code",
     "collapsed": false,
     "input": [
      "def association_table(assocs):\n",
      "    latexed = {}\n",
      "    for key, value in assocs.items():\n",
      "        latexed[key] = latex(value)\n",
      "    latexed['s_total'] = latex(assocs['t_s'] + assocs['f_s'])\n",
      "    latexed['ns_total'] = latex(assocs['t_ns'] + assocs['f_ns'])\n",
      "    return \"\"\"\n",
      "    <TABLE>\n",
      "    <TR><TH><TH>Significant<TH>Not significant\n",
      "    <TR><TH>True association<TD>${t_s}$<TD>${t_ns}$\n",
      "    <TR><TH>No association<TD>${f_s}$<TD>${f_ns}$\n",
      "    <TR><TH>Total<TD>${s_total}$<TD>${ns_total}$\n",
      "    </TABLE>\n",
      "    \"\"\".format(**latexed)"
     ],
     "language": "python",
     "metadata": {},
     "outputs": [],
     "prompt_number": 5
    },
    {
     "cell_type": "code",
     "collapsed": false,
     "input": [
      "assocs = dict(t_s = x,\n",
      "              t_ns = alpha,\n",
      "              f_s = beta,\n",
      "              f_ns = y)"
     ],
     "language": "python",
     "metadata": {},
     "outputs": [],
     "prompt_number": 6
    },
    {
     "cell_type": "code",
     "collapsed": false,
     "input": [
      "HTML(association_table(assocs))"
     ],
     "language": "python",
     "metadata": {},
     "outputs": [
      {
       "html": [
        "\n",
        "    <TABLE>\n",
        "    <TR><TH><TH>Significant<TH>Not significant\n",
        "    <TR><TH>True association<TD>$x$<TD>$\\alpha$\n",
        "    <TR><TH>No association<TD>$\\beta$<TD>$y$\n",
        "    <TR><TH>Total<TD>$\\beta + x$<TD>$\\alpha + y$\n",
        "    </TABLE>\n",
        "    "
       ],
       "metadata": {},
       "output_type": "pyout",
       "prompt_number": 7,
       "text": [
        "<IPython.core.display.HTML at 0x105e9ecd0>"
       ]
      }
     ],
     "prompt_number": 7
    }
   ],
   "metadata": {}
  }
 ]
}