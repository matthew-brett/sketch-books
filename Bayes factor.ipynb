{
 "metadata": {
  "name": ""
 },
 "nbformat": 3,
 "nbformat_minor": 0,
 "worksheets": [
  {
   "cells": [
    {
     "cell_type": "markdown",
     "metadata": {},
     "source": [
      "Bayes theorem and odds.\n",
      "\n",
      "Exploring \"Why most published research findings are false: problems in the analysis\".\n",
      "Goodman S, Greenland S, 2007 PLoS medicine"
     ]
    },
    {
     "cell_type": "code",
     "collapsed": false,
     "input": [
      "%matplotlib inline"
     ],
     "language": "python",
     "metadata": {},
     "outputs": [],
     "prompt_number": 3
    },
    {
     "cell_type": "code",
     "collapsed": false,
     "input": [
      "from sympy import Eq, solve, symbols"
     ],
     "language": "python",
     "metadata": {},
     "outputs": [],
     "prompt_number": 4
    },
    {
     "cell_type": "markdown",
     "metadata": {},
     "source": [
      "Let's say we have to possible outcomes $A$ and $B$.  They are not mutually exclusive, so there are three possible combined outcomes:\n",
      "\n",
      "$A \\land   \\neg B$ (A and not B)\n",
      "\n",
      "$B \\land \\neg A$ (B and not A)\n",
      "\n",
      "$A \\land B$ (A and B)"
     ]
    },
    {
     "cell_type": "markdown",
     "metadata": {},
     "source": [
      "The corresponding probability of $A \\land B$ is:\n",
      "\n",
      "$P(A \\cap B)$\n",
      "\n",
      "The probability of $A$ regardless of $B$:\n",
      "\n",
      "$P(A)$\n",
      "\n",
      "The probability of $B$ regardless of $A$:\n",
      "\n",
      "$P(B)$"
     ]
    },
    {
     "cell_type": "markdown",
     "metadata": {},
     "source": [
      "I'm using [matplotlib-venn](https://pypi.python.org/pypi/matplotlib-venn)"
     ]
    },
    {
     "cell_type": "code",
     "collapsed": false,
     "input": [
      "from matplotlib_venn import venn2\n",
      "v = venn2((3, 2, 1), set_labels = (('', '', '')))\n",
      "v.get_label_by_id('10').set_text('$P(A)$')\n",
      "v.get_label_by_id('01').set_text('$P(B)$')\n",
      "v.get_label_by_id('11').set_text('$P(A \\cap B)$')"
     ],
     "language": "python",
     "metadata": {},
     "outputs": [
      {
       "metadata": {},
       "output_type": "display_data",
       "png": "[encoded data removed]",
       "text": [
        "<matplotlib.figure.Figure at 0x4792710>"
       ]
      }
     ],
     "prompt_number": 30
    },
    {
     "cell_type": "markdown",
     "metadata": {},
     "source": [
      "So:\n",
      "\n",
      "$P(A | B) = P(A \\cap B) / P(B)$\n",
      "\n",
      "$P(B | A) = P(A \\cap B) / P(A) \\implies P(A \\cap B) = P(B | A) P(A)$\n",
      "\n",
      "[Bayes theorem](http://en.wikipedia.org/wiki/Bayes'_theorem#Derivation):\n",
      "\n",
      "$P(A | B) = P(B | A) P(A) / P(B)$"
     ]
    },
    {
     "cell_type": "markdown",
     "metadata": {},
     "source": [
      "Goodman and Greenland prefer to think in terms the [Bayes Factor](http://en.wikipedia.org/wiki/Bayes_factor).\n",
      "\n",
      "The Bayes factor is the ratio of the (probability of the data under the alternative hypothesis) and the (probability of the data under the null hypothesis).\n",
      "\n",
      "$H_A$ - alternative hypothesis\n",
      "\n",
      "$H_0$ - null hypothesis\n",
      "\n",
      "$P_A$ - prior probability of $H_A$\n",
      "\n",
      "$P_0$ - prior probability of $H_0$ = $1 - P(A)$\n",
      "\n",
      "$R_A$ - prior odds of $H_A$ (figure 1 of G+G 2007) $:= P_A / P_0$ = $P_A / 1 - P(A)$"
     ]
    },
    {
     "cell_type": "code",
     "collapsed": false,
     "input": [],
     "language": "python",
     "metadata": {},
     "outputs": []
    }
   ],
   "metadata": {}
  }
 ]
}