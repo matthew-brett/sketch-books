{
 "metadata": {
  "name": ""
 },
 "nbformat": 3,
 "nbformat_minor": 0,
 "worksheets": [
  {
   "cells": [
    {
     "cell_type": "heading",
     "level": 1,
     "metadata": {},
     "source": [
      "Bayes theorem, Bayes factor and odds ratios"
     ]
    },
    {
     "cell_type": "markdown",
     "metadata": {},
     "source": [
      "Partly motivated by exploring \"Why most published research findings are false: problems in the analysis\".\n",
      "Goodman S, Greenland S, 2007 PLoS medicine"
     ]
    },
    {
     "cell_type": "markdown",
     "metadata": {},
     "source": [
      "$\\newcommand{Frac}[2]{\\frac{\\displaystyle #1}{\\displaystyle #2}}$"
     ]
    },
    {
     "cell_type": "code",
     "collapsed": false,
     "input": [
      "%matplotlib inline"
     ],
     "language": "python",
     "metadata": {},
     "outputs": [],
     "prompt_number": 1
    },
    {
     "cell_type": "markdown",
     "metadata": {},
     "source": [
      "Let's say we have to possible outcomes $A$ and $B$.  They are not mutually exclusive, so there are three possible combined outcomes:\n",
      "\n",
      "$A \\land   \\neg B$ (A and not B)\n",
      "\n",
      "$B \\land \\neg A$ (B and not A)\n",
      "\n",
      "$A \\land B$ (A and B)"
     ]
    },
    {
     "cell_type": "markdown",
     "metadata": {},
     "source": [
      "The corresponding probability of $A \\land B$ is:\n",
      "\n",
      "$P(A \\cap B)$\n",
      "\n",
      "The probability of $A$ regardless of $B$:\n",
      "\n",
      "$P(A)$\n",
      "\n",
      "The probability of $B$ regardless of $A$:\n",
      "\n",
      "$P(B)$"
     ]
    },
    {
     "cell_type": "markdown",
     "metadata": {},
     "source": [
      "I'm using [matplotlib-venn](https://pypi.python.org/pypi/matplotlib-venn)"
     ]
    },
    {
     "cell_type": "code",
     "collapsed": false,
     "input": [
      "from matplotlib_venn import venn2\n",
      "v = venn2((3, 2, 1), set_labels = (('', '', '')))\n",
      "v.get_label_by_id('10').set_text('$P(A)$')\n",
      "v.get_label_by_id('01').set_text('$P(B)$')\n",
      "v.get_label_by_id('11').set_text('$P(A \\cap B)$')"
     ],
     "language": "python",
     "metadata": {},
     "outputs": [
      {
       "metadata": {},
       "output_type": "display_data",
       "png": "[encoded data removed]",
       "text": [
        "<matplotlib.figure.Figure at 0x105ac2ed0>"
       ]
      }
     ],
     "prompt_number": 2
    },
    {
     "cell_type": "markdown",
     "metadata": {},
     "source": [
      "So:\n",
      "\n",
      "$P(A | B) = P(A \\cap B) / P(B)$\n",
      "\n",
      "$P(B | A) = P(A \\cap B) / P(A) \\implies P(A \\cap B) = P(B | A) P(A)$\n",
      "\n",
      "[Bayes theorem](http://en.wikipedia.org/wiki/Bayes'_theorem#Derivation):\n",
      "\n",
      "$P(A | B) = P(B | A) P(A) / P(B)$"
     ]
    },
    {
     "cell_type": "markdown",
     "metadata": {},
     "source": [
      "Define:\n",
      "\n",
      "$H_A$ - alternative hypothesis\n",
      "\n",
      "$H_0$ - null hypothesis\n",
      "\n",
      "$Pr(H_A)$ - prior probability of $H_A$\n",
      "\n",
      "$Pr(H_0)$ - prior probability of $H_0$ = $1 - Pr(H_A)$\n",
      "\n",
      "We are interested in the change in probability of $H_A$ and $H_0$ as a result of some collected data.\n",
      "\n",
      "Data $D$ is assumed to have arisen under either $H_A$ or $H_0$.\n",
      "\n",
      "$Pr(D) = Pr(D | H_A) Pr(H_A) + Pr(D | H_0) Pr(H_0)$"
     ]
    },
    {
     "cell_type": "markdown",
     "metadata": {},
     "source": [
      "(From Kass & Rafferty 1995)\n",
      "\n",
      "Bayes theorem gives:\n",
      "\n",
      "$P(H_A | D) = \\Frac{Pr(D | H_A) Pr(H_A)}{\\displaystyle Pr(D)} = \\Frac{Pr(D | H_A) Pr(H_A)}{Pr(D | H_A) Pr(H_A) + Pr(D | H_0) Pr(H_0)}$"
     ]
    },
    {
     "cell_type": "heading",
     "level": 2,
     "metadata": {},
     "source": [
      "Bayes factor"
     ]
    },
    {
     "cell_type": "markdown",
     "metadata": {},
     "source": [
      "See [Bayes rule](http://en.wikipedia.org/wiki/Bayes'_theorem#Bayes.27_rule), [Bayes Factor](http://en.wikipedia.org/wiki/Bayes_factor), Kass and Rafferty, Goodman and Greenland.\n",
      "\n",
      "The Bayes factor is the ratio of the (probability of the data under the alternative hypothesis) and the (probability of the data under the null hypothesis)."
     ]
    },
    {
     "cell_type": "markdown",
     "metadata": {},
     "source": [
      "Its attraction is partly because of the neat relationship to *posterior odds ratio*.  \n",
      "\n",
      "The posterior odds ratio is the ratio of the posterior probability of $H_A$ to the posterior probability of $H_0$:\n",
      "\n",
      "$\\Frac{Pr(H_A | D)}{Pr(H_0 | D)}$\n",
      "\n",
      "From above:\n",
      "\n",
      "$P(H_A | D) = \\Frac{Pr(D | H_A) Pr(H_A)}{Pr(D | H_A) Pr(H_A) + Pr(D | H_0) Pr(H_0)}$\n",
      "\n",
      "Also:\n",
      "\n",
      "$P(H_0 | D) = \\Frac{Pr(D | H_0) Pr(H_0)}{Pr(D | H_A) Pr(H_A) + Pr(D | H_0) Pr(H_0)}$\n",
      "\n",
      "So, dividing one by the other eliminates the $Pr(D)$ term and:\n",
      "\n",
      "$\\Frac{Pr(H_A | D)}{Pr(H_0 | D)} = \\Frac{Pr(D | H_A) Pr(H_A)}{Pr(D | H_0) Pr(H_0)} = \\Frac{Pr(D | H_A)}{Pr(D | H_0)} \\Frac{Pr(H_A)}{Pr(H_0)}$\n",
      "\n",
      "Define Bayes factor for $H_A$:\n",
      "\n",
      "$B_A :=  \\Frac{Pr(D | H_A)}{Pr(D | H_0)}$\n",
      "\n",
      "Define the *prior odds ratio*:\n",
      "\n",
      "$R_A := \\Frac{Pr(H_A)}{Pr(H_0)} = \\Frac{Pr(H_A)}{1 - Pr(H_A)}$\n",
      "\n",
      "So the posterior odds ratio:\n",
      "\n",
      "$\\Frac{Pr(H_A | D)}{Pr(H_0 | D)} = B_A R_A$\n"
     ]
    },
    {
     "cell_type": "heading",
     "level": 2,
     "metadata": {},
     "source": [
      "References"
     ]
    },
    {
     "cell_type": "markdown",
     "metadata": {},
     "source": [
      "* Goodman, Steven, and Sander Greenland. 2007. \u201cWhy most published research findings are false: problems in the analysis.\u201d *PLoS medicine* 4 (4).\n",
      "* Ioannidis, John PA. 2005. \u201cWhy most published research findings are false.\u201d *PLoS medicine* 2 (8): e124.\n",
      "* \u2014\u2014\u2014. 2007. \u201cWhy most published research findings are false: author\u2019s reply to Goodman and Greenland.\u201d *PLoS medicine* 4 (6): e215.\n",
      "* Kass, Robert E., and Adrian E. Raftery. 1995. \u201cBayes factors.\u201d *Journal of the american statistical association* 90 (430): 773\u2013795.\n",
      "* Wacholder, Sholom, Stephen Chanock, Montserrat Garcia-Closas, Nathaniel Rothman, and others. 2004. \u201cAssessing the probability that a positive report is false: an approach for molecular epidemiology studies.\u201d *Journal of the National Cancer Institute* 96 (6): 434\u2013442."
     ]
    },
    {
     "cell_type": "markdown",
     "metadata": {},
     "source": [
      "(References generated with `cat refs.bib | bibtex2markdown.rb`)"
     ]
    }
   ],
   "metadata": {}
  }
 ]
}