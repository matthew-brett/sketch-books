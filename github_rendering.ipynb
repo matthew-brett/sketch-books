{
 "metadata": {
  "name": "",
  "signature": "sha256:961d6c642ab2722119a00515ae5e013b7e87166b610c626ac926fbcb899547ad"
 },
 "nbformat": 3,
 "nbformat_minor": 0,
 "worksheets": [
  {
   "cells": [
    {
     "cell_type": "markdown",
     "metadata": {},
     "source": [
      "$$\n",
      "\\mathrm{first\\ line} \\\\\n",
      "\\mathrm{second\\ line} \\\\\n",
      "\\mathrm{third\\ line}\n",
      "$$"
     ]
    },
    {
     "cell_type": "markdown",
     "metadata": {},
     "source": [
      "Some common symbols giving error on markup:\n",
      "\n",
      "$$\n",
      "a \\implies b\n",
      "$$\n",
      "\n",
      "$$\n",
      "\\vec{x}\n",
      "$$\n",
      "\n",
      "$$\n",
      "c \\triangleq d\n",
      "$$"
     ]
    }
   ],
   "metadata": {}
  }
 ]
}